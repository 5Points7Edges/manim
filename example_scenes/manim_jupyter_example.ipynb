{
 "cells": [
  {
   "cell_type": "code",
   "execution_count": 1,
   "metadata": {},
   "outputs": [],
   "source": [
    "from manim import *"
   ]
  },
  {
   "cell_type": "code",
   "execution_count": 2,
   "metadata": {},
   "outputs": [
    {
     "name": "stdout",
     "output_type": "stream",
     "text": [
      "\n",
      "class Example1(Scene):\n",
      "    def construct(self):\n",
      "        self.add(Circle())\n",
      "\n"
     ]
    },
    {
     "name": "stderr",
     "output_type": "stream",
     "text": [
      "usage: manim file [flags] [scene [scene ...]]\n",
      "       manim {cfg,init,plugins} [opts]\n",
      "manim: error: unrecognized arguments: Example1\n"
     ]
    }
   ],
   "source": [
    "%%manim -s -p -ql  Example1\n",
    "\n",
    "class Example1(Scene):\n",
    "    def construct(self):\n",
    "        self.add(Circle())"
   ]
  },
  {
   "cell_type": "code",
   "execution_count": 3,
   "metadata": {},
   "outputs": [
    {
     "name": "stderr",
     "output_type": "stream",
     "text": [
      "Animation 0: AnimationGroup(Group):   0%|          | 0/63 [00:00<?, ?it/s]"
     ]
    },
    {
     "name": "stdout",
     "output_type": "stream",
     "text": [
      "\n",
      "# set the maximum width for video outputs to a predefined value\n",
      "config.media_width = \"10vw\"\n",
      "\n",
      "class HelloManim(Scene):\n",
      "    def construct(self):\n",
      "        self.camera.background_color = \"#ece6e2\"\n",
      "        banner_large = ManimBanner(dark_theme=False).scale(0.7)\n",
      "        self.play(banner_large.create())\n",
      "        self.play(banner_large.expand())\n",
      "\n"
     ]
    },
    {
     "name": "stderr",
     "output_type": "stream",
     "text": [
      "                                                                                    \r"
     ]
    },
    {
     "data": {
      "text/html": [
       "<pre style=\"white-space:pre;overflow-x:auto;line-height:normal;font-family:Menlo,'DejaVu Sans Mono',consolas,'Courier New',monospace\"><span style=\"color: #bfbf7f\">[03/23/21 08:36:57] </span><span style=\"color: #7fbf7f\">INFO</span>     <span style=\"color: #008000\">Animation 0 : Partial movie file        </span><a href=\"file:///Users/jan-hendrik/projects/manim/manimenv/lib/python3.9/site-packages/manim/scene/scene_file_writer.py\"><span style=\"color: #7f7f7f\">scene_file_writer.py</span></a><span style=\"color: #7f7f7f\">:395</span>\n",
       "                             <span style=\"color: #008000\">written in </span><span style=\"color: #008000; font-weight: bold\">{</span><span style=\"color: #008000\">'/Users/jan-hendrik/project</span><span style=\"color: #008000\"> </span>                        \n",
       "                             <span style=\"color: #008000\">s/manim/example_</span><span style=\"color: #800080\">scene</span><span style=\"color: #008000\">s/media/videos/exa</span><span style=\"color: #008000\"> </span>                        \n",
       "                             <span style=\"color: #008000\">mple_</span><span style=\"color: #800080\">scene</span><span style=\"color: #008000\">s/720p30/partial_movie_files/</span><span style=\"color: #008000\"> </span>                        \n",
       "                             <span style=\"color: #008000\">HelloManim/908850576_4260304398_1510924</span><span style=\"color: #008000\"> </span>                        \n",
       "                             <span style=\"color: #008000\">71.mp4'</span><span style=\"color: #008000; font-weight: bold\">}</span><span style=\"color: #008000\">                                </span>                        \n",
       "</pre>\n"
      ],
      "text/plain": [
       "<rich.jupyter.JupyterRenderable at 0x175798c10>"
      ]
     },
     "metadata": {},
     "output_type": "display_data"
    },
    {
     "name": "stderr",
     "output_type": "stream",
     "text": [
      "                                                                                \r"
     ]
    },
    {
     "data": {
      "text/html": [
       "<pre style=\"white-space:pre;overflow-x:auto;line-height:normal;font-family:Menlo,'DejaVu Sans Mono',consolas,'Courier New',monospace\"><span style=\"color: #bfbf7f\">[03/23/21 08:36:58] </span><span style=\"color: #7fbf7f\">INFO</span>     <span style=\"color: #008000\">Animation 1 : Partial movie file        </span><a href=\"file:///Users/jan-hendrik/projects/manim/manimenv/lib/python3.9/site-packages/manim/scene/scene_file_writer.py\"><span style=\"color: #7f7f7f\">scene_file_writer.py</span></a><span style=\"color: #7f7f7f\">:395</span>\n",
       "                             <span style=\"color: #008000\">written in </span><span style=\"color: #008000; font-weight: bold\">{</span><span style=\"color: #008000\">'/Users/jan-hendrik/project</span><span style=\"color: #008000\"> </span>                        \n",
       "                             <span style=\"color: #008000\">s/manim/example_</span><span style=\"color: #800080\">scene</span><span style=\"color: #008000\">s/media/videos/exa</span><span style=\"color: #008000\"> </span>                        \n",
       "                             <span style=\"color: #008000\">mple_</span><span style=\"color: #800080\">scene</span><span style=\"color: #008000\">s/720p30/partial_movie_files/</span><span style=\"color: #008000\"> </span>                        \n",
       "                             <span style=\"color: #008000\">HelloManim/1169650153_2282905040_181795</span><span style=\"color: #008000\"> </span>                        \n",
       "                             <span style=\"color: #008000\">9623.mp4'</span><span style=\"color: #008000; font-weight: bold\">}</span><span style=\"color: #008000\">                              </span>                        \n",
       "</pre>\n"
      ],
      "text/plain": [
       "<rich.jupyter.JupyterRenderable at 0x17588bfd0>"
      ]
     },
     "metadata": {},
     "output_type": "display_data"
    },
    {
     "data": {
      "text/html": [
       "<pre style=\"white-space:pre;overflow-x:auto;line-height:normal;font-family:Menlo,'DejaVu Sans Mono',consolas,'Courier New',monospace\"><span style=\"color: #bfbf7f\">                    </span><span style=\"color: #7fbf7f\">INFO</span>     <span style=\"color: #008000\">                                        </span><a href=\"file:///Users/jan-hendrik/projects/manim/manimenv/lib/python3.9/site-packages/manim/scene/scene_file_writer.py\"><span style=\"color: #7f7f7f\">scene_file_writer.py</span></a><span style=\"color: #7f7f7f\">:579</span>\n",
       "                             <span style=\"color: #800080\">File</span><span style=\"color: #008000\"> ready at </span><span style=\"color: #800080\">/Users/jan-hendrik/projec</span><span style=\"color: #008000\"> </span>                        \n",
       "                             <span style=\"color: #800080\">ts/manim/example_scenes/media/videos/ex</span><span style=\"color: #008000\"> </span>                        \n",
       "                             <span style=\"color: #800080\">ample_scenes/720p30/</span><span style=\"color: #ff00ff\">HelloManim.mp4</span><span style=\"color: #008000\">      </span>                        \n",
       "                             <span style=\"color: #008000\">                                        </span>                        \n",
       "</pre>\n"
      ],
      "text/plain": [
       "<rich.jupyter.JupyterRenderable at 0x17588bac0>"
      ]
     },
     "metadata": {},
     "output_type": "display_data"
    },
    {
     "data": {
      "text/html": [
       "<pre style=\"white-space:pre;overflow-x:auto;line-height:normal;font-family:Menlo,'DejaVu Sans Mono',consolas,'Courier New',monospace\"><span style=\"color: #bfbf7f\">                    </span><span style=\"color: #7fbf7f\">INFO</span>     <span style=\"color: #800080\">Rendered</span><span style=\"color: #008000\"> HelloManim                                 </span><a href=\"file:///Users/jan-hendrik/projects/manim/manimenv/lib/python3.9/site-packages/manim/scene/scene.py\"><span style=\"color: #7f7f7f\">scene.py</span></a><span style=\"color: #7f7f7f\">:183</span>\n",
       "                             <span style=\"color: #800080\">Played</span><span style=\"color: #008000\"> 2 </span><span style=\"color: #800080\">animations</span><span style=\"color: #008000\">                                 </span>            \n",
       "</pre>\n"
      ],
      "text/plain": [
       "<rich.jupyter.JupyterRenderable at 0x17588be80>"
      ]
     },
     "metadata": {},
     "output_type": "display_data"
    },
    {
     "data": {
      "text/html": [
       "<video src=\"media/jupyter/1f9441c1425b2d6971d4c18ea380f32c8810e087.mp4\" controls autoplay loop style=\"max-width: 100%;\"  >\n",
       "      Your browser does not support the <code>video</code> element.\n",
       "    </video>"
      ],
      "text/plain": [
       "<IPython.core.display.Video object>"
      ]
     },
     "metadata": {},
     "output_type": "display_data"
    }
   ],
   "source": [
    "%%manim -p -qm  HelloManim\n",
    "\n",
    "# set the maximum width for video outputs to a predefined value\n",
    "config.media_width = \"10vw\"\n",
    "\n",
    "class HelloManim(Scene):\n",
    "    def construct(self):\n",
    "        self.camera.background_color = \"#ece6e2\"\n",
    "        banner_large = ManimBanner(dark_theme=False).scale(0.7)\n",
    "        self.play(banner_large.create())\n",
    "        self.play(banner_large.expand())"
   ]
  },
  {
   "cell_type": "code",
   "execution_count": null,
   "metadata": {},
   "outputs": [],
   "source": []
  }
 ],
 "metadata": {
  "kernelspec": {
   "display_name": "Python 3",
   "language": "python",
   "name": "python3"
  },
  "language_info": {
   "codemirror_mode": {
    "name": "ipython",
    "version": 3
   },
   "file_extension": ".py",
   "mimetype": "text/x-python",
   "name": "python",
   "nbconvert_exporter": "python",
   "pygments_lexer": "ipython3",
   "version": "3.9.1"
  }
 },
 "nbformat": 4,
 "nbformat_minor": 4
}